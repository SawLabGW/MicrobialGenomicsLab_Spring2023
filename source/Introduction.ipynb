{
 "cells": [
  {
   "cell_type": "markdown",
   "metadata": {},
   "source": [
    "# Introduction\n",
    "\n",
    "Welcome to the Microbial Genomics Laboratory course for the Spring 2023 semester at The George Washington University! This is a computer-based lab course which will teach you how to use latest and free computational tools to analyze microbial genomes and metagenomes.\n",
    " \n",
    "Detailed course syllabus for the course can be found here: \n",
    "\n",
    "https://github.com/SawLabGW/MicrobialGenomicsLab_Spring2023/blob/main/pdfs/syllabus.pdf\n",
    "\n",
    "## About this documentation\n",
    "\n",
    "This documentation system includes a collection of instructions on computational exercises designed for you throughout the semester. It is impossible to properly display the html pages of these instructions on Blackboard. Therefore, we will be using this website (https://microbialgenomicslab-spring2023.readthedocs.io) to correctly render computational code and instructions and you should be checking the updates weekly for new instructions for each week."
   ]
  }
 ],
 "metadata": {
  "kernelspec": {
   "display_name": "Python 3 (ipykernel)",
   "language": "python",
   "name": "python3"
  },
  "language_info": {
   "codemirror_mode": {
    "name": "ipython",
    "version": 3
   },
   "file_extension": ".py",
   "mimetype": "text/x-python",
   "name": "python",
   "nbconvert_exporter": "python",
   "pygments_lexer": "ipython3",
   "version": "3.9.6"
  }
 },
 "nbformat": 4,
 "nbformat_minor": 4
}
