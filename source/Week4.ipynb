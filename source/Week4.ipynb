{
 "cells": [
  {
   "cell_type": "markdown",
   "metadata": {},
   "source": [
    "## Week 4"
   ]
  },
  {
   "cell_type": "markdown",
   "metadata": {},
   "source": [
    "### Agenda for (02/08/2023)\n",
    "\n",
    "  - Introduction to High-Performance Computing (HPC) resources at GW\n",
    "  - Lab exercises\n",
    "    - learn how to create virtual environments\n",
    "    - connecting to and working remotely on Cerberus\n",
    "    - install Miniconda and Bioconda on Cerberus\n",
    "    - learn to write sbatch scripts on Cerberus\n",
    "    - microbial genome assembly using SPAdes (on Cerberus)\n",
    "    - obtain assembly metrics using Quast\n",
    "    - download/upload files to/from Cerberus using rsync\n",
    "    - visualization of assemblies using Bandage\n",
    "    - download metagenomic data on Cerberus for next week\n",
    "      - Run a metagenome assembly if there is time\n"
   ]
  }
 ],
 "metadata": {
  "kernelspec": {
   "display_name": "Python 3 (ipykernel)",
   "language": "python",
   "name": "python3"
  },
  "language_info": {
   "codemirror_mode": {
    "name": "ipython",
    "version": 3
   },
   "file_extension": ".py",
   "mimetype": "text/x-python",
   "name": "python",
   "nbconvert_exporter": "python",
   "pygments_lexer": "ipython3",
   "version": "3.9.6"
  }
 },
 "nbformat": 4,
 "nbformat_minor": 4
}
