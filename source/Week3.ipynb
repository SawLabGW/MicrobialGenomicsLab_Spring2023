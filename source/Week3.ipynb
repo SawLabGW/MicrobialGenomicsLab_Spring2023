{
 "cells": [
  {
   "cell_type": "markdown",
   "metadata": {},
   "source": [
    "# Week 3"
   ]
  },
  {
   "cell_type": "markdown",
   "metadata": {},
   "source": [
    "## Agenda for (02/01/2023)\n",
    "\n",
    "  - Introduction to sequence assembly and genome assemblers\n",
    "  - Demos:\n",
    "    - Unix demo: navigating directory structures and file systems\n",
    "    - Jupyter lab\n",
    "  - Lab exercises\n",
    "    - troubleshoot last week's exercises (if needed)\n",
    "    - microbial genome assembly using SPAdes\n",
    "    - obtain assembly metrics using Quast\n",
    "    - try connecting to Cerberus and install some tools"
   ]
  }
 ],
 "metadata": {
  "kernelspec": {
   "display_name": "Python 3 (ipykernel)",
   "language": "python",
   "name": "python3"
  },
  "language_info": {
   "codemirror_mode": {
    "name": "ipython",
    "version": 3
   },
   "file_extension": ".py",
   "mimetype": "text/x-python",
   "name": "python",
   "nbconvert_exporter": "python",
   "pygments_lexer": "ipython3",
   "version": "3.9.6"
  }
 },
 "nbformat": 4,
 "nbformat_minor": 4
}
