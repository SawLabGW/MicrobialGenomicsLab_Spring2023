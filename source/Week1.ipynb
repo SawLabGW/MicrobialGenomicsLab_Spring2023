{
 "cells": [
  {
   "cell_type": "markdown",
   "metadata": {},
   "source": [
    "# Week 1"
   ]
  },
  {
   "cell_type": "markdown",
   "metadata": {},
   "source": [
    "## Agenda for (01/18/2023)\n",
    "\n",
    "  - Introduction to the course (Lecture)\n",
    "  - Setting up your computing environment\n",
    "  - Introduction to Unix/Linux commands\n",
    "  - Install Miniconda\n",
    "  - Install git \n",
    "  - Install Jupyter lab\n",
    "  - Install and test some bioinformatic tools"
   ]
  },
  {
   "cell_type": "markdown",
   "metadata": {},
   "source": [
    "## Introduction to the course"
   ]
  },
  {
   "cell_type": "markdown",
   "metadata": {},
   "source": [
    "We will be meeting in person in Duques 250 throughput the Spring 2023 semester. Please make sure you bring your laptop to participate in computational lab activities each week. Remote participation is not an option (per the university guidelines) but there will be Echo360 recording of the class sessions each week that may be made available to you if necessary. \n",
    "\n",
    "Remote participation may only be made available if the instructor became sick or due to other campus closures (such as snow days)."
   ]
  },
  {
   "cell_type": "markdown",
   "metadata": {},
   "source": [
    "### Classroom location"
   ]
  },
  {
   "cell_type": "markdown",
   "metadata": {},
   "source": [
    "The classroom is located in **Duques 250**. See here: https://virtualtour.gwu.edu/virtual-tour-map#ctdl-UMAP_2019121051598,BLD_2013111208587"
   ]
  },
  {
   "cell_type": "markdown",
   "metadata": {},
   "source": [
    "### Other tools needed"
   ]
  },
  {
   "cell_type": "markdown",
   "metadata": {},
   "source": [
    "We will use **Slack** to communicate, discuss, and disseminate information such as reading materials, videos,code snippets, etc. You will get an invitation to join a Slack group created for this course. While Blackboard works fine, due to the cross-listed nature of the course, sometimes it becomes very difficult to organize content across both courses on Blackboard. We will use Blackboard for grading and submission of assignments but for sharing of content and classroom communications, we will use Slack.\n",
    "\n",
    "We will also be using **Github** to document your work and group project. We may also be sharing other course contents on private Github repositories if necessary. For example, the computational instructions you are seeing now was shared through a public Github repository that everyone in the world can access. However, we can decide to make it private by only offering the contents through a private Github repository. "
   ]
  }
 ],
 "metadata": {
  "kernelspec": {
   "display_name": "Python 3 (ipykernel)",
   "language": "python",
   "name": "python3"
  },
  "language_info": {
   "codemirror_mode": {
    "name": "ipython",
    "version": 3
   },
   "file_extension": ".py",
   "mimetype": "text/x-python",
   "name": "python",
   "nbconvert_exporter": "python",
   "pygments_lexer": "ipython3",
   "version": "3.9.6"
  }
 },
 "nbformat": 4,
 "nbformat_minor": 4
}
